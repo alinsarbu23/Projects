{
 "cells": [
  {
   "cell_type": "markdown",
   "id": "252ea5b9-28c3-45d0-82c6-afecc04345b5",
   "metadata": {},
   "source": [
    "## 0. Importare biblioteci necesare"
   ]
  },
  {
   "cell_type": "code",
   "execution_count": 1,
   "id": "66801dc0-85fe-40d5-ab50-6547cd107c12",
   "metadata": {},
   "outputs": [
    {
     "name": "stdout",
     "output_type": "stream",
     "text": [
      "Done\n"
     ]
    }
   ],
   "source": [
    "import torch\n",
    "import torch.nn as nn\n",
    "import torch.optim as optim\n",
    "from torchvision import datasets, transforms\n",
    "from torch.utils.data import DataLoader\n",
    "import matplotlib.pyplot as plt\n",
    "print(\"Done\")"
   ]
  },
  {
   "cell_type": "markdown",
   "id": "e5ee623c-07dc-4705-b39c-cdbee1c55896",
   "metadata": {},
   "source": [
    "## 1. Inițializare model"
   ]
  },
  {
   "cell_type": "code",
   "execution_count": 2,
   "id": "42aa9eea-b6fb-4084-81c5-842824064031",
   "metadata": {},
   "outputs": [
    {
     "name": "stdout",
     "output_type": "stream",
     "text": [
      "Using device: cpu\n"
     ]
    }
   ],
   "source": [
    "device = torch.device(\"cuda\" if torch.cuda.is_available() else \"cpu\")\n",
    "print(f\"Using device: {device}\")"
   ]
  },
  {
   "cell_type": "markdown",
   "id": "d2274d37-7119-4d1c-b39a-4e3dbf632c9e",
   "metadata": {},
   "source": [
    "## 2. Încărcare și preprocesare set de date MNIST"
   ]
  },
  {
   "cell_type": "code",
   "execution_count": 3,
   "id": "f4c56d54-f519-4d06-a387-f06473f86e8d",
   "metadata": {},
   "outputs": [
    {
     "name": "stdout",
     "output_type": "stream",
     "text": [
      "Done\n"
     ]
    }
   ],
   "source": [
    "#preprocessing the images for CNN\n",
    "transform = transforms.Compose([transforms.ToTensor(), transforms.Normalize((0.5,), (0.5,))]) \n",
    "\n",
    "\n",
    "#transform to tensor and also normalize the values [-1,1]\n",
    "#normalized-value = (original_value - miu)/std\n",
    "\n",
    "#downloading the MNIST dataset\n",
    "train_dataset = datasets.MNIST(root='./data', train=True, download=True, transform=transform)\n",
    "test_dataset = datasets.MNIST(root='./data', train=False, download=True, transform=transform)\n",
    "\n",
    "#loading DataLoader (trainer for data loading in Python)\n",
    "train_loader = DataLoader(train_dataset, batch_size=32, shuffle=True)\n",
    "test_loader = DataLoader(test_dataset, batch_size=32, shuffle = False)\n",
    "print(\"Done\")"
   ]
  },
  {
   "cell_type": "markdown",
   "id": "4aab66f5-5947-4b4e-aa79-8dde717db730",
   "metadata": {},
   "source": [
    "## 3. Definirea rețelei neuronale"
   ]
  },
  {
   "cell_type": "code",
   "execution_count": 4,
   "id": "4347979e-462c-4d4f-b4da-d5ae197592ba",
   "metadata": {},
   "outputs": [],
   "source": [
    "class CNN(nn.Module):\n",
    "    def __init__(self):\n",
    "        super(CNN, self).__init__()\n",
    "        self.conv1 = nn.Conv2d(1, 32, kernel_size=3, padding=1)  # Dimensiune: (batch_size, 32, 28, 28)\n",
    "        self.conv2 = nn.Conv2d(32, 64, kernel_size=3, padding=1)  # Dimensiune: (batch_size, 64, 28, 28)\n",
    "        self.pool = nn.MaxPool2d(2, 2)  # Dimensiune după pooling: (batch_size, 64, 14, 14)\n",
    "        self.fc1 = nn.Linear(64 * 14 * 14, 128)  # Dimensiune de intrare corectă pentru fc1\n",
    "        self.fc2 = nn.Linear(128, 10)  # Ieșire: 10 clase\n",
    "        self.relu = nn.ReLU()\n",
    "\n",
    "    def forward(self, x):\n",
    "        x = self.relu(self.conv1(x))  # Aplică primul strat de convoluție și ReLU\n",
    "        x = self.pool(self.relu(self.conv2(x)))  # Aplică al doilea strat de convoluție și pooling\n",
    "        x = x.view(x.size(0), -1)  # Aplatizează tensorul pentru a-l introduce în stratul complet conectat\n",
    "        x = self.relu(self.fc1(x))  # Aplică primul strat complet conectat\n",
    "        x = self.fc2(x)  # Aplică stratul final complet conectat\n",
    "        return x\n",
    "\n",
    "model = CNN()"
   ]
  },
  {
   "cell_type": "markdown",
   "id": "5927e76a-919c-47ad-bb78-f1263fecdfca",
   "metadata": {},
   "source": [
    "## 4. Configurare funcție de pierdere și optimizator"
   ]
  },
  {
   "cell_type": "code",
   "execution_count": 5,
   "id": "9b706f9e-9082-418f-9d58-6c701b50fe53",
   "metadata": {},
   "outputs": [
    {
     "name": "stdout",
     "output_type": "stream",
     "text": [
      "Done\n"
     ]
    }
   ],
   "source": [
    "criterion = nn.CrossEntropyLoss()  # Funcția de pierdere pentru clasificare\n",
    "optimizer = optim.Adam(model.parameters(), lr=0.001)  # Optimizatorul Adam\n",
    "\n",
    "print(\"Done\")"
   ]
  },
  {
   "cell_type": "markdown",
   "id": "78550964-3faa-4d7e-b840-edf097b879de",
   "metadata": {},
   "source": [
    "## 5. Antrenarea rețelei"
   ]
  },
  {
   "cell_type": "code",
   "execution_count": 6,
   "id": "1fda7e82-9989-4f84-b2c1-72e1161d64a2",
   "metadata": {},
   "outputs": [
    {
     "name": "stdout",
     "output_type": "stream",
     "text": [
      "Epoch [1/10], Loss: 0.1147\n",
      "Epoch [2/10], Loss: 0.0369\n",
      "Epoch [3/10], Loss: 0.0238\n",
      "Epoch [4/10], Loss: 0.0163\n",
      "Epoch [5/10], Loss: 0.0108\n",
      "Epoch [6/10], Loss: 0.0099\n",
      "Epoch [7/10], Loss: 0.0066\n",
      "Epoch [8/10], Loss: 0.0072\n",
      "Epoch [9/10], Loss: 0.0050\n",
      "Epoch [10/10], Loss: 0.0076\n"
     ]
    }
   ],
   "source": [
    "epochs = 10\n",
    "for epoch in range(epochs):\n",
    "    model.train()\n",
    "    current_loss = 0.0\n",
    "    for images, labels in train_loader:\n",
    "        images, labels = images.to(device), labels.to(device)\n",
    "\n",
    "        optimizer.zero_grad()\n",
    "        outputs = model(images)\n",
    "        loss = criterion(outputs, labels)\n",
    "        loss.backward()\n",
    "        optimizer.step()\n",
    "\n",
    "        current_loss += loss.item()\n",
    "\n",
    "    avg_loss = current_loss / len(train_loader)\n",
    "    print(f\"Epoch [{epoch+1}/{epochs}], Loss: {avg_loss:.4f}\")"
   ]
  },
  {
   "cell_type": "markdown",
   "id": "d911990b-42a8-4ecc-a1f4-06fb40422456",
   "metadata": {},
   "source": [
    "## 6. Evaluare model"
   ]
  },
  {
   "cell_type": "code",
   "execution_count": 7,
   "id": "e285344e-4f05-4a4e-a269-ba880e9a0780",
   "metadata": {},
   "outputs": [
    {
     "name": "stdout",
     "output_type": "stream",
     "text": [
      "Test Accuracy: 98.99%\n"
     ]
    }
   ],
   "source": [
    "correct = 0\n",
    "total = 0\n",
    "\n",
    "model.eval() \n",
    "with torch.no_grad():\n",
    "    for images, labels in test_loader:\n",
    "        images, labels = images.to(device), labels.to(device)\n",
    "        outputs = model(images)\n",
    "        _, predicted = torch.max(outputs, 1)\n",
    "        total += labels.size(0)\n",
    "        correct += (predicted == labels).sum().item()\n",
    "\n",
    "accuracy = 100 * correct / total\n",
    "print(f\"Test Accuracy: {accuracy:.2f}%\")\n"
   ]
  },
  {
   "cell_type": "markdown",
   "id": "2c9c6d45-42d8-4976-bfb4-af4da39c1d7d",
   "metadata": {},
   "source": [
    "## 7. Vizualizare pierdere și acuratețe"
   ]
  },
  {
   "cell_type": "code",
   "execution_count": 13,
   "id": "15056ce8-3b1c-43e0-8927-e9cd012ba3bb",
   "metadata": {},
   "outputs": [
    {
     "data": {
      "image/png": "[encoded data removed]",
      "text/plain": [
       "<Figure size 640x480 with 1 Axes>"
      ]
     },
     "metadata": {},
     "output_type": "display_data"
    }
   ],
   "source": [
    "plt.plot(losses, label=\"Training Loss\")\n",
    "plt.xlabel('Epochs')\n",
    "plt.ylabel('Loss')\n",
    "plt.title('Training Loss Curve')\n",
    "plt.legend()\n",
    "plt.show()"
   ]
  },
  {
   "cell_type": "markdown",
   "id": "a840a88b-39b7-460b-a5dd-78a839c632ab",
   "metadata": {},
   "source": [
    "## 8. Salvare model"
   ]
  },
  {
   "cell_type": "code",
   "execution_count": 9,
   "id": "170c6409-3d5f-485e-a4b5-4e032e2faf49",
   "metadata": {},
   "outputs": [
    {
     "name": "stdout",
     "output_type": "stream",
     "text": [
      "Model saved to trained_model.onnx\n"
     ]
    }
   ],
   "source": [
    "dummy_input = torch.randn(1, 1, 28, 28).to(device) \n",
    "onnx_file_path = \"trained_model.onnx\"\n",
    "\n",
    "model.eval()\n",
    "torch.onnx.export(model, dummy_input, onnx_file_path, export_params=True, opset_version=11,\n",
    "                  input_names=['input'], output_names=['output'],\n",
    "                  dynamic_axes={'input': {0: 'batch_size'}, 'output': {0: 'batch_size'}})\n",
    "\n",
    "print(f\"Model saved to {onnx_file_path}\")\n"
   ]
  },
  {
   "cell_type": "code",
   "execution_count": null,
   "id": "f0d9be9f-63bd-4f69-926e-529546cf0057",
   "metadata": {},
   "outputs": [],
   "source": []
  }
 ],
 "metadata": {
  "kernelspec": {
   "display_name": "Python 3 (ipykernel)",
   "language": "python",
   "name": "python3"
  },
  "language_info": {
   "codemirror_mode": {
    "name": "ipython",
    "version": 3
   },
   "file_extension": ".py",
   "mimetype": "text/x-python",
   "name": "python",
   "nbconvert_exporter": "python",
   "pygments_lexer": "ipython3",
   "version": "3.11.9"
  }
 },
 "nbformat": 4,
 "nbformat_minor": 5
}
